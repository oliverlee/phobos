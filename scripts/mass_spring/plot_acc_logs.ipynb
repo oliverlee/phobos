{
 "cells": [
  {
   "cell_type": "code",
   "execution_count": 1,
   "metadata": {
    "collapsed": true
   },
   "outputs": [],
   "source": [
    "import numpy as np\n",
    "import scipy\n",
    "import scipy.signal\n",
    "\n",
    "import matplotlib.pyplot as plt\n",
    "import matplotlib.patches as mpatches\n",
    "import seaborn as sns\n",
    "sns.set(style=\"white\", palette=\"muted\")\n",
    "%matplotlib inline"
   ]
  },
  {
   "cell_type": "code",
   "execution_count": null,
   "metadata": {
    "collapsed": true
   },
   "outputs": [],
   "source": [
    "# run cell for interactive plots\n",
    "import mpld3\n",
    "mpld3.enable_notebook()"
   ]
  },
  {
   "cell_type": "code",
   "execution_count": 2,
   "metadata": {
    "collapsed": true
   },
   "outputs": [],
   "source": [
    "def load_log(filename):\n",
    "    \"\"\"Load data from logs with estimated acceleration. Returns\n",
    "    a numpy record array.\n",
    "    \"\"\"\n",
    "    datatype = np.dtype([\n",
    "        ('time', '<f8'),\n",
    "        ('kistler_torque', '<f8'),\n",
    "        ('motor_torque', '<f8'),\n",
    "        ('feedback_reference', '<f8'),\n",
    "        ('estimated_position', '<f8'),\n",
    "        ('estimated_velocity', '<f8'),\n",
    "        ('estimated_acceleration', '<f8'),\n",
    "    ])\n",
    "    \n",
    "    values = []\n",
    "    with open(filename) as f:\n",
    "        for line in f:\n",
    "            vals = tuple(float(f) for f in line.split(','))\n",
    "            assert(len(vals) == len(datatype))\n",
    "            # check if time is valid,\n",
    "            # there is usually an invalid time within the first 5 iterations\n",
    "            if vals[0] > 2**32 - 1:\n",
    "                assert len(values) <= len(datatype)*5, 'invalid time after {} iterations'.format(\n",
    "                    len(values)//len(datatype))\n",
    "                values = []\n",
    "                continue\n",
    "            values.append(vals)\n",
    "    data = np.rec.array(values, dtype=datatype)\n",
    "    t = data.time\n",
    "    dt = np.diff(t)\n",
    "    offset = 2**32 * np.cumsum(dt < 0)\n",
    "    data.time[1:] += offset\n",
    "    data.time -= data.time[0]\n",
    "    data.time /= 168e6 # real time clock frequency\n",
    "    return data"
   ]
  },
  {
   "cell_type": "code",
   "execution_count": 3,
   "metadata": {
    "collapsed": true
   },
   "outputs": [],
   "source": [
    "def plot_log(record, show_plot=True):\n",
    "    colors = sns.husl_palette(8)\n",
    "    fig, ax = plt.subplots(2, 1, figsize=(12, 8), sharex=True)\n",
    "    norm = lambda x: np.abs(x).max()\n",
    "    normalize = lambda x: x/norm(x)\n",
    "    ax[0].plot(record.time, normalize(record.estimated_position),\n",
    "               color=colors[0], label='estimated position/{}'.format(norm(record.estimated_position)))\n",
    "    ax[0].plot(record.time, normalize(record.estimated_velocity),\n",
    "               color=colors[1], label='estimated velocity/{}'.format(norm(record.estimated_velocity)))\n",
    "    ax[0].plot(record.time, normalize(record.estimated_acceleration),\n",
    "               color=colors[2], label='estimated acceleration/{}'.format(norm(record.estimated_acceleration)))\n",
    "    ax[0].plot(record.time, record.feedback_reference/norm(record.estimated_velocity),\n",
    "               color=colors[3], label='feedback velocity/{}'.format(norm(record.estimated_velocity)))\n",
    "    ax[0].plot(record.time, 0*record.time, color='black', linewidth=1, zorder=1)\n",
    "    ax[0].legend()\n",
    "    ax[0].set_xlabel('time [s]')\n",
    "    ax[0].set_ylabel('[rad, rad/s, rad/s^2]')\n",
    "    \n",
    "    inertia = 0.00592455 # kg-m^2\n",
    "    inertia_torque = inertia*record.estimated_acceleration;\n",
    "    steer_torque = record.kistler_torque + record.motor_torque + inertia_torque\n",
    "    ax[1].plot(record.time, record.kistler_torque, color=colors[4], label='sensor torque')\n",
    "    ax[1].plot(record.time, record.motor_torque, color=colors[5], label='motor torque')\n",
    "    ax[1].plot(record.time, inertia_torque, color=colors[6], label='inertia torque (calculated)')\n",
    "    ax[1].plot(record.time, steer_torque, color=colors[7], label='steer torque (calculted)')\n",
    "    ax[1].legend()\n",
    "    ax[1].set_xlabel('time [s]')\n",
    "    ax[1].set_ylabel('torque [N-m]')\n",
    "    ax[1].plot(record.time, 0*record.time, color='black', linewidth=1, zorder=1)\n",
    "    if show_plot:\n",
    "        plt.show()\n",
    "    return fig, ax"
   ]
  },
  {
   "cell_type": "code",
   "execution_count": 4,
   "metadata": {},
   "outputs": [
    {
     "ename": "NameError",
     "evalue": "name 'plot_log2' is not defined",
     "output_type": "error",
     "traceback": [
      "\u001b[0;31m---------------------------------------------------------------------------\u001b[0m",
      "\u001b[0;31mNameError\u001b[0m                                 Traceback (most recent call last)",
      "\u001b[0;32m<ipython-input-4-6383420d4a46>\u001b[0m in \u001b[0;36m<module>\u001b[0;34m()\u001b[0m\n\u001b[1;32m      1\u001b[0m \u001b[0mvals\u001b[0m \u001b[0;34m=\u001b[0m \u001b[0mload_log\u001b[0m\u001b[0;34m(\u001b[0m\u001b[0;34m'acc_kalman_u_off.log'\u001b[0m\u001b[0;34m)\u001b[0m\u001b[0;34m\u001b[0m\u001b[0m\n\u001b[0;32m----> 2\u001b[0;31m \u001b[0mfig\u001b[0m\u001b[0;34m,\u001b[0m \u001b[0max\u001b[0m \u001b[0;34m=\u001b[0m \u001b[0mplot_log2\u001b[0m\u001b[0;34m(\u001b[0m\u001b[0mvals\u001b[0m\u001b[0;34m,\u001b[0m \u001b[0;32mFalse\u001b[0m\u001b[0;34m)\u001b[0m\u001b[0;34m\u001b[0m\u001b[0m\n\u001b[0m\u001b[1;32m      3\u001b[0m \u001b[0mfig\u001b[0m\u001b[0;34m.\u001b[0m\u001b[0msuptitle\u001b[0m\u001b[0;34m(\u001b[0m\u001b[0;34m'acc_kalman_u_off.log'\u001b[0m\u001b[0;34m)\u001b[0m\u001b[0;34m\u001b[0m\u001b[0m\n\u001b[1;32m      4\u001b[0m \u001b[0mplt\u001b[0m\u001b[0;34m.\u001b[0m\u001b[0mshow\u001b[0m\u001b[0;34m(\u001b[0m\u001b[0;34m)\u001b[0m\u001b[0;34m\u001b[0m\u001b[0m\n",
      "\u001b[0;31mNameError\u001b[0m: name 'plot_log2' is not defined"
     ]
    }
   ],
   "source": [
    "vals = load_log('acc_kalman_u_off.log')\n",
    "fig, ax = plot_log(vals, False)\n",
    "fig.suptitle('acc_kalman_u_off.log')\n",
    "plt.show()"
   ]
  },
  {
   "cell_type": "code",
   "execution_count": null,
   "metadata": {
    "collapsed": true
   },
   "outputs": [],
   "source": [
    "vals = load_log('acc_kalman_u_on.log')\n",
    "fig, ax = plot_log(vals, False)\n",
    "fig.suptitle('acc_kalman_u_on.log')\n",
    "plt.show()"
   ]
  }
 ],
 "metadata": {
  "kernelspec": {
   "display_name": "Python [conda env:dev]",
   "language": "python",
   "name": "conda-env-dev-py"
  },
  "language_info": {
   "codemirror_mode": {
    "name": "ipython",
    "version": 3
   },
   "file_extension": ".py",
   "mimetype": "text/x-python",
   "name": "python",
   "nbconvert_exporter": "python",
   "pygments_lexer": "ipython3",
   "version": "3.5.3"
  }
 },
 "nbformat": 4,
 "nbformat_minor": 2
}
